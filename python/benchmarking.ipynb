{
 "cells": [
  {
   "cell_type": "code",
   "execution_count": 1,
   "metadata": {},
   "outputs": [],
   "source": [
    "import numpy as np\n",
    "from matplotlib import pyplot as plt\n",
    "import real_space_electrostatic_sum\n",
    "bohr = 0.52917721067"
   ]
  },
  {
   "cell_type": "markdown",
   "metadata": {},
   "source": [
    "# Benchmarking\n",
    "\n",
    "Using the shared library `real-space-electrostatic-sum.so`, together with the Python wrapper in `real_space_electrostatic_sum.py`, this notebook reproduces results from [Pickard, *Phys. Rev. Mat.* **2**, 013806 (2018)](https://doi.org/10.1103/PhysRevMaterials.2.013806), verifying that the Fortran implementation works properly."
   ]
  },
  {
   "cell_type": "markdown",
   "metadata": {},
   "source": [
    "## Reproducing part of Fig. 1(b)\n",
    "\n",
    "Fig. 1(b) in the paper demonstrates the convergence of the method (with damping) for a simple cubic lattice with unit spacing."
   ]
  },
  {
   "cell_type": "code",
   "execution_count": 2,
   "metadata": {},
   "outputs": [
    {
     "data": {
      "image/png": "[encoded data removed]",
      "text/plain": [
       "<Figure size 432x288 with 1 Axes>"
      ]
     },
     "metadata": {
      "needs_background": "light"
     },
     "output_type": "display_data"
    }
   ],
   "source": [
    "# lattice vectors\n",
    "a_x = np.array([1.0, 0.0, 0.0])\n",
    "a_y = np.array([0.0, 1.0, 0.0])\n",
    "a_z = np.array([0.0, 0.0, 1.0])\n",
    "\n",
    "# ion locations\n",
    "loc = np.zeros([1,3])\n",
    "chg = np.ones(1)\n",
    "\n",
    "# loop over cutoff radii\n",
    "r_c = np.linspace(0.001,30,500)\n",
    "r_d = 1.5\n",
    "ene = np.zeros(len(r_c))\n",
    "for i, r in enumerate(r_c):\n",
    "    ene[i] = real_space_electrostatic_sum.energy(a_x, a_y, a_z, loc.shape[0], loc, chg, r, r_d)\n",
    "    \n",
    "# generate part of Fig. 1(b)\n",
    "plt.plot(r_c, ene, 'r')\n",
    "plt.title('Fig. 1(b)')\n",
    "plt.xlim([0,30]); plt.ylim([-1.5,-1.25])\n",
    "plt.xlabel('$R_c$');  plt.ylabel('$E_i$')\n",
    "plt.show()"
   ]
  },
  {
   "cell_type": "markdown",
   "metadata": {},
   "source": [
    "## Reproducing data in Table I\n",
    "\n",
    "Table I in the paper contains reference ion-ion energies for four crystals. The relevant data are re-generated below, and agreement with the original data is apparent to at least four significant figures. The remaining discrepancies are likely due to small differences in the lattice constants."
   ]
  },
  {
   "cell_type": "markdown",
   "metadata": {},
   "source": [
    "### _Al_\n",
    "\n",
    "FCC primitive cell, based on lattice constant from the ICSD."
   ]
  },
  {
   "cell_type": "code",
   "execution_count": 3,
   "metadata": {},
   "outputs": [
    {
     "name": "stdout",
     "output_type": "stream",
     "text": [
      "R̂d = 2.0,    energy per cell =   -2.695949221\n",
      "R̂d = 1.5,    energy per cell =   -2.695949220\n",
      "R̂d = 1.0,    energy per cell =   -2.696022609\n"
     ]
    }
   ],
   "source": [
    "# lattice vectors\n",
    "a_x = 4.04975 * np.array([0.5, 0.5, 0.0]) / bohr\n",
    "a_y = 4.04975 * np.array([0.0, 0.5, 0.5]) / bohr\n",
    "a_z = 4.04975 * np.array([0.5, 0.0, 0.5]) / bohr\n",
    "\n",
    "# ion locations\n",
    "loc = np.zeros([1,3])\n",
    "\n",
    "# charge array\n",
    "chg = 3.0 * np.ones(loc.shape[0])\n",
    "\n",
    "# length scale\n",
    "h_max = 4.42\n",
    "\n",
    "# compute energies\n",
    "r_d_hat = 2.0\n",
    "ene = real_space_electrostatic_sum.energy(\n",
    "        a_x, a_y, a_z, loc.shape[0], loc, chg, 3.0*r_d_hat**2*h_max, r_d_hat*h_max)\n",
    "print('R\\u0302d = {0:3.1f},    energy per cell = {1:14.9f}'.format(r_d_hat, ene))\n",
    "r_d_hat = 1.5\n",
    "ene = real_space_electrostatic_sum.energy(\n",
    "        a_x, a_y, a_z, loc.shape[0], loc, chg, 3.0*r_d_hat**2*h_max, r_d_hat*h_max)\n",
    "print('R\\u0302d = {0:3.1f},    energy per cell = {1:14.9f}'.format(r_d_hat, ene))\n",
    "r_d_hat = 1.0\n",
    "ene = real_space_electrostatic_sum.energy(\n",
    "        a_x, a_y, a_z, loc.shape[0], loc, chg, 3.0*r_d_hat**2*h_max, r_d_hat*h_max)\n",
    "print('R\\u0302d = {0:3.1f},    energy per cell = {1:14.9f}'.format(r_d_hat, ene))"
   ]
  },
  {
   "cell_type": "markdown",
   "metadata": {},
   "source": [
    "### _Si_\n",
    "\n",
    "Diamond cubic primitive cell, based on lattice constant from the ICSD."
   ]
  },
  {
   "cell_type": "code",
   "execution_count": 4,
   "metadata": {},
   "outputs": [
    {
     "name": "stdout",
     "output_type": "stream",
     "text": [
      "R̂d = 2.0,    energy per cell =   -8.398652105\n",
      "R̂d = 1.5,    energy per cell =   -8.398652103\n",
      "R̂d = 1.0,    energy per cell =   -8.398667072\n"
     ]
    }
   ],
   "source": [
    "# lattice vectors\n",
    "a_x = 5.43053 * np.array([0.5, 0.5, 0.0]) / bohr\n",
    "a_y = 5.43053 * np.array([0.0, 0.5, 0.5]) / bohr\n",
    "a_z = 5.43053 * np.array([0.5, 0.0, 0.5]) / bohr\n",
    "\n",
    "# ion locations\n",
    "loc = np.zeros([2, 3])\n",
    "loc[1,:] = 5.43053 * np.array([0.25, 0.25, 0.25]) / bohr\n",
    "\n",
    "# charge array\n",
    "chg = 4.0 * np.ones(loc.shape[0])\n",
    "\n",
    "# length scale\n",
    "h_max = 5.92\n",
    "\n",
    "# compute energies\n",
    "r_d_hat = 2.0\n",
    "ene = real_space_electrostatic_sum.energy(\n",
    "        a_x, a_y, a_z, loc.shape[0], loc, chg, 3.0*r_d_hat**2*h_max, r_d_hat*h_max)\n",
    "print('R\\u0302d = {0:3.1f},    energy per cell = {1:14.9f}'.format(r_d_hat, ene))\n",
    "r_d_hat = 1.5\n",
    "ene = real_space_electrostatic_sum.energy(\n",
    "        a_x, a_y, a_z, loc.shape[0], loc, chg, 3.0*r_d_hat**2*h_max, r_d_hat*h_max)\n",
    "print('R\\u0302d = {0:3.1f},    energy per cell = {1:14.9f}'.format(r_d_hat, ene))\n",
    "r_d_hat = 1.0\n",
    "ene = real_space_electrostatic_sum.energy(\n",
    "        a_x, a_y, a_z, loc.shape[0], loc, chg, 3.0*r_d_hat**2*h_max, r_d_hat*h_max)\n",
    "print('R\\u0302d = {0:3.1f},    energy per cell = {1:14.9f}'.format(r_d_hat, ene))"
   ]
  },
  {
   "cell_type": "markdown",
   "metadata": {},
   "source": [
    "### _SiO2_\n",
    "\n",
    "Structure obtained by:\n",
    "* downloading relevant .cif file from the ICSD (based on the collection code);\n",
    "* loading .cif file into VESTA and then exporting as .vasp file;\n",
    "* copying lattice vectors and atom positions from .vasp file."
   ]
  },
  {
   "cell_type": "code",
   "execution_count": 5,
   "metadata": {},
   "outputs": [
    {
     "name": "stdout",
     "output_type": "stream",
     "text": [
      "R̂d = 2.0,    energy per cell =  -69.488097471\n",
      "R̂d = 1.5,    energy per cell =  -69.488097466\n",
      "R̂d = 1.0,    energy per cell =  -69.487432799\n"
     ]
    }
   ],
   "source": [
    "# lattice vectors\n",
    "a_x = np.array([ 4.9130001068, 0.0000000000, 0.0000000000]) / bohr\n",
    "a_y = np.array([-2.4565000534, 4.2547829013, 0.0000000000]) / bohr\n",
    "a_z = np.array([ 0.0000000000, 0.0000000000, 5.4050002098]) / bohr\n",
    "\n",
    "# ion locations\n",
    "loc = np.array([\n",
    "    [ 2.284545183, 0.000000000, 1.801666737],\n",
    "    [-1.142272592, 1.978473902, 3.603333473],\n",
    "    [ 1.314227462, 2.276308537, 0.000000000],\n",
    "    [ 1.370726824, 1.157300949, 1.151265025],\n",
    "    [ 3.225384474, 0.608433843, 2.952931643],\n",
    "    [ 2.773388386, 2.489048004, 4.754598618],\n",
    "    [ 0.316888690, 1.765734792, 4.253735065],\n",
    "    [-1.085773110, 3.097481728, 2.452068567],\n",
    "    [ 0.768884659, 3.646348715, 0.650401771] ]) / bohr\n",
    "\n",
    "# charge array\n",
    "chg = np.zeros(loc.shape[0])\n",
    "chg[:3] = 4.0\n",
    "chg[3:] = 6.0\n",
    "\n",
    "# length scale\n",
    "h_max = 10.21\n",
    "\n",
    "# compute energies\n",
    "r_d_hat = 2.0\n",
    "ene = real_space_electrostatic_sum.energy(\n",
    "        a_x, a_y, a_z, loc.shape[0], loc, chg, 3.0*r_d_hat**2*h_max, r_d_hat*h_max)\n",
    "print('R\\u0302d = {0:3.1f},    energy per cell = {1:14.9f}'.format(r_d_hat, ene))\n",
    "r_d_hat = 1.5\n",
    "ene = real_space_electrostatic_sum.energy(\n",
    "        a_x, a_y, a_z, loc.shape[0], loc, chg, 3.0*r_d_hat**2*h_max, r_d_hat*h_max)\n",
    "print('R\\u0302d = {0:3.1f},    energy per cell = {1:14.9f}'.format(r_d_hat, ene))\n",
    "r_d_hat = 1.0\n",
    "ene = real_space_electrostatic_sum.energy(\n",
    "        a_x, a_y, a_z, loc.shape[0], loc, chg, 3.0*r_d_hat**2*h_max, r_d_hat*h_max)\n",
    "print('R\\u0302d = {0:3.1f},    energy per cell = {1:14.9f}'.format(r_d_hat, ene))"
   ]
  },
  {
   "cell_type": "markdown",
   "metadata": {},
   "source": [
    "### _Al2SiO5_\n",
    "\n",
    "Structure obtained by:\n",
    "* downloading relevant .cif file from the ICSD (based on the collection code);\n",
    "* loading .cif file into VESTA and then exporting as .vasp file;\n",
    "* copying lattice vectors and atom positions from .vasp file."
   ]
  },
  {
   "cell_type": "code",
   "execution_count": 6,
   "metadata": {},
   "outputs": [
    {
     "name": "stdout",
     "output_type": "stream",
     "text": [
      "R̂d = 2.0,    energy per cell = -244.055010549\n",
      "R̂d = 1.5,    energy per cell = -244.055010543\n",
      "R̂d = 1.0,    energy per cell = -244.054923844\n"
     ]
    }
   ],
   "source": [
    "# lattice vectors\n",
    "a_x = np.array([7.7941999435, 0.0000000000, 0.0000000000]) / bohr\n",
    "a_y = np.array([0.0000000000, 7.8984999657, 0.0000000000]) / bohr\n",
    "a_z = np.array([0.0000000000, 0.0000000000, 5.5590000153]) / bohr\n",
    "\n",
    "# ion locations\n",
    "loc = np.array([\n",
    "    [0.000000000, 0.000000000, 1.346389771],\n",
    "    [0.000000000, 0.000000000, 4.212610245],\n",
    "    [3.897099972, 3.949249983, 1.433110118],\n",
    "    [3.897099972, 3.949249983, 4.125889778],\n",
    "    [2.890089273, 1.095521927, 2.779500008],\n",
    "    [4.904110432, 6.802978039, 2.779500008],\n",
    "    [1.007010698, 5.044772148, 0.000000000],\n",
    "    [6.787189484, 2.853728056, 0.000000000],\n",
    "    [1.918931961, 1.997530699, 0.000000000],\n",
    "    [5.875267982, 5.900969505, 0.000000000],\n",
    "    [1.978168011, 5.946780682, 2.779500008],\n",
    "    [5.816031933, 1.951719284, 2.779500008],\n",
    "    [3.298505545, 2.864785910, 2.779500008],\n",
    "    [4.495694637, 5.033714294, 2.779500008],\n",
    "    [0.598594487, 6.814035892, 0.000000000],\n",
    "    [7.195605278, 1.084464192, 0.000000000],\n",
    "    [3.304740667, 2.866365433, 0.000000000],\n",
    "    [4.489459038, 5.032134056, 0.000000000],\n",
    "    [0.592359245, 6.815615654, 2.779500008],\n",
    "    [7.201840878, 1.082884431, 2.779500008],\n",
    "    [0.809037924, 3.169668198, 0.000000000],\n",
    "    [6.985161781, 4.728831768, 0.000000000],\n",
    "    [3.088062048, 7.118917942, 2.779500008],\n",
    "    [4.706138134, 0.779581845, 2.779500008],\n",
    "    [1.795004249, 1.060768485, 1.328601003],\n",
    "    [5.999195576, 6.837731361, 4.230399132],\n",
    "    [5.999195576, 6.837731361, 1.328601003],\n",
    "    [1.795004249, 1.060768485, 4.230399132],\n",
    "    [2.102095604, 5.010018349, 1.450899005],\n",
    "    [5.692104340, 2.888481379, 4.108100891],\n",
    "    [5.692104340, 2.888481379, 1.450899005],\n",
    "    [2.102095604, 5.010018349, 4.108100891] ]) / bohr\n",
    "\n",
    "# charge array\n",
    "chg = np.zeros(loc.shape[0])\n",
    "chg[:8] = 3.0\n",
    "chg[8:12] = 4.0\n",
    "chg[12:] = 6.0\n",
    "\n",
    "# length scale\n",
    "h_max = 14.93\n",
    "\n",
    "# compute energies\n",
    "r_d_hat = 2.0\n",
    "ene = real_space_electrostatic_sum.energy(\n",
    "        a_x, a_y, a_z, loc.shape[0], loc, chg, 3.0*r_d_hat**2*h_max, r_d_hat*h_max)\n",
    "print('R\\u0302d = {0:3.1f},    energy per cell = {1:14.9f}'.format(r_d_hat, ene))\n",
    "r_d_hat = 1.5\n",
    "ene = real_space_electrostatic_sum.energy(\n",
    "        a_x, a_y, a_z, loc.shape[0], loc, chg, 3.0*r_d_hat**2*h_max, r_d_hat*h_max)\n",
    "print('R\\u0302d = {0:3.1f},    energy per cell = {1:14.9f}'.format(r_d_hat, ene))\n",
    "r_d_hat = 1.0\n",
    "ene = real_space_electrostatic_sum.energy(\n",
    "        a_x, a_y, a_z, loc.shape[0], loc, chg, 3.0*r_d_hat**2*h_max, r_d_hat*h_max)\n",
    "print('R\\u0302d = {0:3.1f},    energy per cell = {1:14.9f}'.format(r_d_hat, ene))"
   ]
  },
  {
   "cell_type": "markdown",
   "metadata": {},
   "source": [
    "## Madelung energy for NaCl\n",
    "\n",
    "See the discussion around Eq. (1) in [Mamode, _J. Math. Chem._ __55__, 734 (2017)](https://doi.org/10.1007/s10910-016-0705-9).\n",
    "\n",
    "With $M_{\\mathrm{NaCl}}$ as the Madelung energy and $E_{\\mathrm{NaCl}}$ as the energy of a two-atom primitive cell having $z_{1,2}=\\pm 1$, the following identities hold\n",
    "\n",
    "\\begin{equation}\n",
    "\\begin{split}\n",
    "M_{\\mathrm{NaCl}} \n",
    "&= E_{\\mathrm{NaCl}} \\\\\n",
    "&= \\sum_{i\\in\\{1,2\\}} \\sum_{j\\ne i}^\\infty \\frac{z_i z_j}{2r_{ij}} \\\\\n",
    "&= \\sum_{i\\in\\{1,2\\}}\n",
    "    \\left[ \\sum_{\\substack{j\\ne i \\\\z_iz_j>0}}^\\infty \\frac{z_i z_j}{2r_{ij}} -\n",
    "            \\sum_{\\substack{j\\ne i \\\\z_iz_j<0}}^\\infty \\frac{|z_i z_j|}{2r_{ij}} \\right] \\\\\n",
    "&= \\sum_{i\\in\\{1,2\\}}\n",
    "    \\left[ 2 \\sum_{\\substack{j\\ne i \\\\z_iz_j>0}}^\\infty \\frac{z_i z_j}{2r_{ij}} -\n",
    "            \\sum_{j\\ne i}^\\infty \\frac{|z_i z_j|}{2r_{ij}} \\right] \\\\\n",
    "&= 4 E_{\\mathrm{FCC}} - \n",
    "    \\sum_{i\\in\\{1,2\\}} \\sum_{j\\ne i}^\\infty \\frac{|z_i z_j|}{2r_{ij}}\n",
    "\\end{split}\n",
    "\\end{equation}\n",
    "\n",
    "and the final result should be $M_{\\mathrm{NaCl}} = −1.747 564 594 633 \\cdots$."
   ]
  },
  {
   "cell_type": "code",
   "execution_count": 7,
   "metadata": {},
   "outputs": [
    {
     "name": "stdout",
     "output_type": "stream",
     "text": [
      "M = -1.747564594633\n"
     ]
    }
   ],
   "source": [
    "# lattice vectors\n",
    "a_x = np.array([1.0, 1.0, 0.0])\n",
    "a_y = np.array([0.0, 1.0, 1.0])\n",
    "a_z = np.array([1.0, 0.0, 1.0])\n",
    "\n",
    "# length scale and cutoff\n",
    "h_max = np.sqrt(4.0/3.0)\n",
    "r_d_hat = 3.0\n",
    "\n",
    "# compute FCC energy\n",
    "loc = np.zeros([1,3])\n",
    "chg = np.ones(loc.shape[0])\n",
    "E_FCC = real_space_electrostatic_sum.energy(\n",
    "        a_x, a_y, a_z, loc.shape[0], loc, chg, 3.0*r_d_hat**2*h_max, r_d_hat*h_max)\n",
    "\n",
    "# compute second term\n",
    "loc = np.zeros([2,3])\n",
    "loc[1,:] = np.array([1.0, 1.0, 1.0])\n",
    "chg = np.ones(loc.shape[0])\n",
    "E_2 = real_space_electrostatic_sum.energy(\n",
    "        a_x, a_y, a_z, loc.shape[0], loc, chg, 3.0*r_d_hat**2*h_max, r_d_hat*h_max)\n",
    "\n",
    "# print result\n",
    "print('M = {0:15.12f}'.format(4*E_FCC - E_2))"
   ]
  }
 ],
 "metadata": {
  "kernelspec": {
   "display_name": "Python 3",
   "language": "python",
   "name": "python3"
  },
  "language_info": {
   "codemirror_mode": {
    "name": "ipython",
    "version": 3
   },
   "file_extension": ".py",
   "mimetype": "text/x-python",
   "name": "python",
   "nbconvert_exporter": "python",
   "pygments_lexer": "ipython3",
   "version": "3.7.3"
  }
 },
 "nbformat": 4,
 "nbformat_minor": 2
}
